{
 "cells": [
  {
   "cell_type": "code",
   "execution_count": null,
   "id": "99bce5a7-d14b-447b-b7c0-4880e9590fa7",
   "metadata": {},
   "outputs": [],
   "source": [
    "import os\n",
    "\n",
    "from main import handler"
   ]
  },
  {
   "cell_type": "code",
   "execution_count": null,
   "id": "bc08c587",
   "metadata": {},
   "outputs": [],
   "source": [
    "handler({\"input\": {\n",
    "    \"image_url\": \"https://img01.ztat.net/article/spp-media-p1/79e083ed7ee34fe296ebaa2b611c388a/dd07cbade9be478ea04dc95513e7db6e.jpg?imwidth=1800\"\n",
    "}})"
   ]
  }
 ],
 "metadata": {
  "kernelspec": {
   "display_name": "Python 3 (ipykernel)",
   "language": "python",
   "name": "python3"
  },
  "language_info": {
   "codemirror_mode": {
    "name": "ipython",
    "version": 3
   },
   "file_extension": ".py",
   "mimetype": "text/x-python",
   "name": "python",
   "nbconvert_exporter": "python",
   "pygments_lexer": "ipython3",
   "version": "3.10.12"
  }
 },
 "nbformat": 4,
 "nbformat_minor": 5
}
