{
 "cells": [
  {
   "cell_type": "code",
   "execution_count": 1,
   "id": "f6fcedb8-210b-4c57-964c-03af6182e20c",
   "metadata": {},
   "outputs": [],
   "source": [
    "import sys\n",
    "sys.path.append(\"/workspace/body-shape-detector/regressor/\")"
   ]
  },
  {
   "cell_type": "code",
   "execution_count": 2,
   "id": "bc47de42-ad0c-4f8f-ba70-690dbb9d7189",
   "metadata": {},
   "outputs": [
    {
     "name": "stdout",
     "output_type": "stream",
     "text": [
      "Jupyter environment detected. Enabling Open3D WebVisualizer.\n",
      "[Open3D INFO] WebRTC GUI backend enabled.\n",
      "[Open3D INFO] WebRTCWindowSystem: HTTP handshake server disabled.\n"
     ]
    }
   ],
   "source": [
    "import os\n",
    "import uuid\n",
    "from urllib.request import urlretrieve\n",
    "\n",
    "import shapy\n",
    "\n",
    "TEMP_DIR = \"../temp\"\n",
    "if not os.path.exists(TEMP_DIR):\n",
    "    os.makedirs(TEMP_DIR)"
   ]
  },
  {
   "cell_type": "code",
   "execution_count": 2,
   "id": "acc243c2-3bf0-407c-a7d9-0244819f02d3",
   "metadata": {},
   "outputs": [],
   "source": [
    "def dl_image(url):\n",
    "    # define temporary folder\n",
    "    key = str(uuid.uuid4())\n",
    "    path = os.path.join(TEMP_DIR, key)\n",
    "\n",
    "    # create dirs\n",
    "    os.mkdir(path)\n",
    "    os.mkdir(os.path.join(path, \"images\"))\n",
    "    os.mkdir(os.path.join(path, \"openpose\"))\n",
    "    \n",
    "    filename = os.path.join(path, \"images\", \"img_00.jpg\")\n",
    "    urlretrieve(url, filename=filename)\n",
    "    return path"
   ]
  },
  {
   "cell_type": "code",
   "execution_count": 3,
   "id": "037aeec0-b137-4a6d-a63a-0e630681f68c",
   "metadata": {},
   "outputs": [],
   "source": [
    "path = dl_image(\n",
    "    \"https://img01.ztat.net/article/spp-media-p1/79e083ed7ee34fe296ebaa2b611c388a/dd07cbade9be478ea04dc95513e7db6e.jpg?imwidth=1800\"\n",
    ")"
   ]
  },
  {
   "cell_type": "code",
   "execution_count": 12,
   "id": "2c51f34c-3eaa-4216-99d5-3591846822d0",
   "metadata": {},
   "outputs": [],
   "source": [
    "path = \".\""
   ]
  },
  {
   "cell_type": "code",
   "execution_count": 17,
   "id": "b98c7389-f80d-4aa4-8605-5106220e892b",
   "metadata": {},
   "outputs": [
    {
     "name": "stdout",
     "output_type": "stream",
     "text": [
      "CPU times: user 1.97 s, sys: 922 ms, total: 2.89 s\n",
      "Wall time: 2.96 s\n"
     ]
    }
   ],
   "source": [
    "%%time\n",
    "results = shapy.run(path)"
   ]
  },
  {
   "cell_type": "code",
   "execution_count": 18,
   "id": "ee547aed-8038-49be-a224-46c45f5cbfc8",
   "metadata": {},
   "outputs": [
    {
     "data": {
      "text/plain": [
       "{'img_03.jpg': {'mass': 75.59444427490234,\n",
       "  'height': 1.7113054990768433,\n",
       "  'chest': 1.0327506065368652,\n",
       "  'waist': 0.9069675207138062,\n",
       "  'hips': 1.0089669227600098},\n",
       " 'img_04.jpg': {'mass': 75.59444427490234,\n",
       "  'height': 1.7113054990768433,\n",
       "  'chest': 1.0327506065368652,\n",
       "  'waist': 0.9069675207138062,\n",
       "  'hips': 1.0089669227600098},\n",
       " 'img_02.jpg': {'mass': 75.59444427490234,\n",
       "  'height': 1.7113054990768433,\n",
       "  'chest': 1.0327506065368652,\n",
       "  'waist': 0.9069675207138062,\n",
       "  'hips': 1.0089669227600098},\n",
       " 'img_01.jpg': {'mass': 75.59444427490234,\n",
       "  'height': 1.7113054990768433,\n",
       "  'chest': 1.0327506065368652,\n",
       "  'waist': 0.9069675207138062,\n",
       "  'hips': 1.0089669227600098},\n",
       " 'img_00.jpg': {'mass': 75.59444427490234,\n",
       "  'height': 1.7113054990768433,\n",
       "  'chest': 1.0327506065368652,\n",
       "  'waist': 0.9069675207138062,\n",
       "  'hips': 0.6416573524475098}}"
      ]
     },
     "execution_count": 18,
     "metadata": {},
     "output_type": "execute_result"
    }
   ],
   "source": [
    "results"
   ]
  },
  {
   "cell_type": "code",
   "execution_count": 19,
   "id": "34faee2a-a806-47f9-9faa-7aed6642a99a",
   "metadata": {},
   "outputs": [],
   "source": [
    "import numpy as np"
   ]
  },
  {
   "cell_type": "code",
   "execution_count": 26,
   "id": "4437a1f3-4242-4ce5-9b15-8d6dc0187480",
   "metadata": {},
   "outputs": [],
   "source": [
    "data = np.load(\"./shapy_fit_custom/img_01.npz\", allow_pickle=True)"
   ]
  },
  {
   "cell_type": "code",
   "execution_count": 27,
   "id": "a21554f9-a757-4da0-b37b-077b3fefa36f",
   "metadata": {},
   "outputs": [
    {
     "data": {
      "text/plain": [
       "array({'mass': tensor([75.4883], device='cuda:0'), 'height': tensor([1.8283], device='cuda:0'), 'chest': tensor([1.0141], device='cuda:0'), 'waist': tensor([0.8497], device='cuda:0'), 'hips': tensor([0.9776], device='cuda:0')},\n",
       "      dtype=object)"
      ]
     },
     "execution_count": 27,
     "metadata": {},
     "output_type": "execute_result"
    }
   ],
   "source": [
    "data[\"measurements\"]"
   ]
  },
  {
   "cell_type": "code",
   "execution_count": null,
   "id": "1e883d5c-824f-4dcc-8a5a-c4fdd319d317",
   "metadata": {},
   "outputs": [],
   "source": []
  }
 ],
 "metadata": {
  "kernelspec": {
   "display_name": "Python 3 (ipykernel)",
   "language": "python",
   "name": "python3"
  },
  "language_info": {
   "codemirror_mode": {
    "name": "ipython",
    "version": 3
   },
   "file_extension": ".py",
   "mimetype": "text/x-python",
   "name": "python",
   "nbconvert_exporter": "python",
   "pygments_lexer": "ipython3",
   "version": "3.10.12"
  }
 },
 "nbformat": 4,
 "nbformat_minor": 5
}
